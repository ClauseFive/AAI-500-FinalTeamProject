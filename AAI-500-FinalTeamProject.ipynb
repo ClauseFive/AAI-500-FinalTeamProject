{
 "cells": [
  {
   "cell_type": "markdown",
   "id": "f1b39fda",
   "metadata": {},
   "source": [
    "Project Members:                                                  \n",
    "- Daniel Arday\n",
    "- <Member 2>\n",
    "- <Member 3>\n",
    "\n",
    "Date:  10/23/2023\n"
   ]
  },
  {
   "cell_type": "markdown",
   "id": "97de1a1e",
   "metadata": {},
   "source": [
    "### Final Requirements - for our rerefence as we complete the assignment\n",
    "\n",
    "Technical Report: One PDF document with your final technical report. This should describe your preparation and analysis of the data, discuss the final model selection, and describe the statistics behind your final model selection.\n",
    "You should include the following sections in your report:\n",
    "- Introduction\n",
    "- Data Cleaning/Preparation\n",
    "- Exploratory Data Analysis\n",
    "- Model Selection\n",
    "- Model Analysis\n",
    "- Conclusion and Recommendations."
   ]
  },
  {
   "cell_type": "markdown",
   "id": "92fc302f",
   "metadata": {},
   "source": [
    "# Introduction\n",
    "\n",
    "The UCI Computer Hardward dataset (https://archive.ics.uci.edu/dataset/29/computer+hardware) was created by Jacob Feldmesser to compare relative CPU Performance Data, described in terms of its cycle time, memory size, and other metrics for the paper \"Attributes of the performance of central processing units: a relative performance prediction model\" ( Ein-Dor & Feldmesser, 1987). In this article, the authors determined the estimated relative performance values utilizing a linear regression method. Refer to pages 308-313 of their publication for a detailed explanation of how the relative performance values were established (https://archive.ics.uci.edu/dataset/29/computer+hardware, 2023).\n",
    "\n",
    "\n",
    "### Objective\n",
    "\n",
    "**Our goal with analyzing this dataset is to create a linear regression model to estimate relative CPU performance values.**"
   ]
  },
  {
   "cell_type": "markdown",
   "id": "29721608",
   "metadata": {},
   "source": [
    "### Data Description/Attribuite Information\n",
    "   1. `Vendor name`: 30 \n",
    "      (adviser, amdahl,apollo, basf, bti, burroughs, c.r.d, cambex, cdc, dec, \n",
    "       dg, formation, four-phase, gould, honeywell, hp, ibm, ipl, magnuson, \n",
    "       microdata, nas, ncr, nixdorf, perkin-elmer, prime, siemens, sperry, \n",
    "       sratus, wang)\n",
    "   2. `Model Name`: many unique symbols\n",
    "   3. `MYCT`: machine cycle time in nanoseconds (integer)\n",
    "   4. `MMIN`: minimum main memory in kilobytes (integer)\n",
    "   5. `MMAX`: maximum main memory in kilobytes (integer)\n",
    "   6. `CACH`: cache memory in kilobytes (integer)\n",
    "   7. `CHMIN`: minimum channels in units (integer)\n",
    "   8. `CHMAX`: maximum channels in units (integer)\n",
    "   9. `PRP`: published relative performance (integer)\n",
    "   10. `ERP`: estimated relative performance from the original article (integer)"
   ]
  },
  {
   "cell_type": "markdown",
   "id": "1397469a",
   "metadata": {},
   "source": [
    "### Loading libraries and  Understanding the data"
   ]
  },
  {
   "cell_type": "code",
   "execution_count": 19,
   "id": "d1b3ad31",
   "metadata": {},
   "outputs": [],
   "source": [
    "#Imports\n",
    "import pandas as pd\n",
    "import numpy as np\n",
    "import matplotlib.pyplot as plt\n",
    "import seaborn as sns\n",
    "sns.set()\n",
    "# Removes the limit for the number of displayed columns\n",
    "pd.set_option(\"display.max_columns\", None)\n",
    "# Sets the limit for the number of displayed rows\n",
    "pd.set_option(\"display.max_rows\", 200)\n",
    "# to do mathematical computations\n",
    "import math\n",
    "# To build linear model for prediction\n",
    "from sklearn.linear_model import LinearRegression\n",
    "# To check model performance\n",
    "from sklearn.metrics import mean_squared_error, r2_score, mean_absolute_error\n",
    "# to suppress warnings\n",
    "import warnings\n",
    "warnings.filterwarnings(\"ignore\")"
   ]
  },
  {
   "cell_type": "code",
   "execution_count": 20,
   "id": "62920c31",
   "metadata": {},
   "outputs": [
    {
     "name": "stdout",
     "output_type": "stream",
     "text": [
      "There are 208 rows and 10 columns.\n"
     ]
    }
   ],
   "source": [
    "data = pd.read_csv('machine.csv', sep=',')\n",
    "print(f\"There are {data.shape[0]} rows and {data.shape[1]} columns.\")"
   ]
  },
  {
   "cell_type": "code",
   "execution_count": 16,
   "id": "4cdc1b00",
   "metadata": {
    "scrolled": true
   },
   "outputs": [
    {
     "data": {
      "text/html": [
       "<div>\n",
       "<style scoped>\n",
       "    .dataframe tbody tr th:only-of-type {\n",
       "        vertical-align: middle;\n",
       "    }\n",
       "\n",
       "    .dataframe tbody tr th {\n",
       "        vertical-align: top;\n",
       "    }\n",
       "\n",
       "    .dataframe thead th {\n",
       "        text-align: right;\n",
       "    }\n",
       "</style>\n",
       "<table border=\"1\" class=\"dataframe\">\n",
       "  <thead>\n",
       "    <tr style=\"text-align: right;\">\n",
       "      <th></th>\n",
       "      <th>adviser</th>\n",
       "      <th>32/60</th>\n",
       "      <th>125</th>\n",
       "      <th>256</th>\n",
       "      <th>6000</th>\n",
       "      <th>256.1</th>\n",
       "      <th>16</th>\n",
       "      <th>128</th>\n",
       "      <th>198</th>\n",
       "      <th>199</th>\n",
       "    </tr>\n",
       "  </thead>\n",
       "  <tbody>\n",
       "    <tr>\n",
       "      <th>0</th>\n",
       "      <td>amdahl</td>\n",
       "      <td>470v/7</td>\n",
       "      <td>29</td>\n",
       "      <td>8000</td>\n",
       "      <td>32000</td>\n",
       "      <td>32</td>\n",
       "      <td>8</td>\n",
       "      <td>32</td>\n",
       "      <td>269</td>\n",
       "      <td>253</td>\n",
       "    </tr>\n",
       "    <tr>\n",
       "      <th>1</th>\n",
       "      <td>amdahl</td>\n",
       "      <td>470v/7a</td>\n",
       "      <td>29</td>\n",
       "      <td>8000</td>\n",
       "      <td>32000</td>\n",
       "      <td>32</td>\n",
       "      <td>8</td>\n",
       "      <td>32</td>\n",
       "      <td>220</td>\n",
       "      <td>253</td>\n",
       "    </tr>\n",
       "    <tr>\n",
       "      <th>2</th>\n",
       "      <td>amdahl</td>\n",
       "      <td>470v/7b</td>\n",
       "      <td>29</td>\n",
       "      <td>8000</td>\n",
       "      <td>32000</td>\n",
       "      <td>32</td>\n",
       "      <td>8</td>\n",
       "      <td>32</td>\n",
       "      <td>172</td>\n",
       "      <td>253</td>\n",
       "    </tr>\n",
       "    <tr>\n",
       "      <th>3</th>\n",
       "      <td>amdahl</td>\n",
       "      <td>470v/7c</td>\n",
       "      <td>29</td>\n",
       "      <td>8000</td>\n",
       "      <td>16000</td>\n",
       "      <td>32</td>\n",
       "      <td>8</td>\n",
       "      <td>16</td>\n",
       "      <td>132</td>\n",
       "      <td>132</td>\n",
       "    </tr>\n",
       "    <tr>\n",
       "      <th>4</th>\n",
       "      <td>amdahl</td>\n",
       "      <td>470v/b</td>\n",
       "      <td>26</td>\n",
       "      <td>8000</td>\n",
       "      <td>32000</td>\n",
       "      <td>64</td>\n",
       "      <td>8</td>\n",
       "      <td>32</td>\n",
       "      <td>318</td>\n",
       "      <td>290</td>\n",
       "    </tr>\n",
       "  </tbody>\n",
       "</table>\n",
       "</div>"
      ],
      "text/plain": [
       "  adviser    32/60  125   256   6000  256.1  16  128  198  199\n",
       "0  amdahl   470v/7   29  8000  32000     32   8   32  269  253\n",
       "1  amdahl  470v/7a   29  8000  32000     32   8   32  220  253\n",
       "2  amdahl  470v/7b   29  8000  32000     32   8   32  172  253\n",
       "3  amdahl  470v/7c   29  8000  16000     32   8   16  132  132\n",
       "4  amdahl   470v/b   26  8000  32000     64   8   32  318  290"
      ]
     },
     "execution_count": 16,
     "metadata": {},
     "output_type": "execute_result"
    }
   ],
   "source": [
    "data.head(5)"
   ]
  },
  {
   "cell_type": "markdown",
   "id": "e7bba22c",
   "metadata": {},
   "source": [
    "### Initial Observation: This csv does not include a row for the Data Labes, so we will need to add that in."
   ]
  },
  {
   "cell_type": "code",
   "execution_count": 22,
   "id": "ee7e1409",
   "metadata": {},
   "outputs": [],
   "source": [
    "#Adding in the Attribute Information"
   ]
  },
  {
   "cell_type": "markdown",
   "id": "6ca08aaa",
   "metadata": {},
   "source": [
    "# Data Cleaning & Preparation"
   ]
  },
  {
   "cell_type": "markdown",
   "id": "96f19c6c",
   "metadata": {},
   "source": [
    "# Exploratory Data Analysis"
   ]
  },
  {
   "cell_type": "markdown",
   "id": "c62ee80a",
   "metadata": {},
   "source": [
    "# Model Selection"
   ]
  },
  {
   "cell_type": "markdown",
   "id": "30633117",
   "metadata": {},
   "source": [
    "# Model Analysis"
   ]
  },
  {
   "cell_type": "markdown",
   "id": "5f5df37f",
   "metadata": {},
   "source": [
    "# Conclusion and Recommendations"
   ]
  },
  {
   "cell_type": "markdown",
   "id": "d58e82bf",
   "metadata": {},
   "source": [
    "# Refences\n",
    "\n",
    "https://dl.acm.org/doi/10.1145/32232.32234\n",
    "\n",
    "https://archive.ics.uci.edu/dataset/29/computer+hardware"
   ]
  },
  {
   "cell_type": "markdown",
   "id": "79dd04dd",
   "metadata": {},
   "source": [
    "\n",
    "## Machine.Name Files (Via the UCI Repository)\n",
    "\n",
    "\n",
    "1. Title: Relative CPU Performance Data \n",
    "\n",
    "2. Source Information\n",
    "   -- Creators: Phillip Ein-Dor and Jacob Feldmesser\n",
    "     -- Ein-Dor: Faculty of Management; Tel Aviv University; Ramat-Aviv; \n",
    "        Tel Aviv, 69978; Israel\n",
    "   -- Donor: David W. Aha (aha@ics.uci.edu) (714) 856-8779   \n",
    "   -- Date: October, 1987\n",
    " \n",
    "3. Past Usage:\n",
    "    1. Ein-Dor and Feldmesser (CACM 4/87, pp 308-317)\n",
    "       -- Results: \n",
    "          -- linear regression prediction of relative cpu performance\n",
    "          -- Recorded 34% average deviation from actual values \n",
    "    2. Kibler,D. & Aha,D. (1988).  Instance-Based Prediction of\n",
    "       Real-Valued Attributes.  In Proceedings of the CSCSI (Canadian\n",
    "       AI) Conference.\n",
    "       -- Results:\n",
    "          -- instance-based prediction of relative cpu performance\n",
    "          -- similar results; no transformations required\n",
    "    - Predicted attribute: cpu relative performance (numeric)\n",
    "\n",
    "4. Relevant Information:\n",
    "   -- The estimated relative performance values were estimated by the authors\n",
    "      using a linear regression method.  See their article (pp 308-313) for\n",
    "      more details on how the relative performance values were set.\n",
    "\n",
    "5. Number of Instances: 209 \n",
    "\n",
    "6. Number of Attributes: 10 (6 predictive attributes, 2 non-predictive, \n",
    "                             1 goal field, and the linear regression's guess)\n",
    "\n",
    "7. Attribute Information:\n",
    "   1. vendor name: 30 \n",
    "      (adviser, amdahl,apollo, basf, bti, burroughs, c.r.d, cambex, cdc, dec, \n",
    "       dg, formation, four-phase, gould, honeywell, hp, ibm, ipl, magnuson, \n",
    "       microdata, nas, ncr, nixdorf, perkin-elmer, prime, siemens, sperry, \n",
    "       sratus, wang)\n",
    "   2. Model Name: many unique symbols\n",
    "   3. MYCT: machine cycle time in nanoseconds (integer)\n",
    "   4. MMIN: minimum main memory in kilobytes (integer)\n",
    "   5. MMAX: maximum main memory in kilobytes (integer)\n",
    "   6. CACH: cache memory in kilobytes (integer)\n",
    "   7. CHMIN: minimum channels in units (integer)\n",
    "   8. CHMAX: maximum channels in units (integer)\n",
    "   9. PRP: published relative performance (integer)\n",
    "  10. ERP: estimated relative performance from the original article (integer)\n",
    "\n",
    "8. Missing Attribute Values: None\n",
    "\n",
    "9. Class Distribution: the class value (PRP) is continuously valued.\n",
    "   PRP Value Range:   Number of Instances in Range:\n",
    "   0-20               31\n",
    "   21-100             121\n",
    "   101-200            27\n",
    "   201-300            13\n",
    "   301-400            7\n",
    "   401-500            4\n",
    "   501-600            2\n",
    "   above 600          4\n",
    "\n",
    "Summary Statistics:\n",
    "\t   Min  Max   Mean    SD      PRP Correlation\n",
    "   MCYT:   17   1500  203.8   260.3   -0.3071\n",
    "   MMIN:   64   32000 2868.0  3878.7   0.7949\n",
    "   MMAX:   64   64000 11796.1 11726.6  0.8630\n",
    "   CACH:   0    256   25.2    40.6     0.6626\n",
    "   CHMIN:  0    52    4.7     6.8      0.6089\n",
    "   CHMAX:  0    176   18.2    26.0     0.6052\n",
    "   PRP:    6    1150  105.6   160.8    1.0000\n",
    "   ERP:   15    1238  99.3    154.8    0.9665\n",
    "\n"
   ]
  },
  {
   "cell_type": "code",
   "execution_count": null,
   "id": "8eb2db16",
   "metadata": {},
   "outputs": [],
   "source": []
  }
 ],
 "metadata": {
  "kernelspec": {
   "display_name": "Python 3",
   "language": "python",
   "name": "python3"
  },
  "language_info": {
   "codemirror_mode": {
    "name": "ipython",
    "version": 3
   },
   "file_extension": ".py",
   "mimetype": "text/x-python",
   "name": "python",
   "nbconvert_exporter": "python",
   "pygments_lexer": "ipython3",
   "version": "3.8.8"
  }
 },
 "nbformat": 4,
 "nbformat_minor": 5
}
